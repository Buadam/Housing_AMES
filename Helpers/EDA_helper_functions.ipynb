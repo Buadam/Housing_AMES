{
 "cells": [
  {
   "cell_type": "markdown",
   "metadata": {},
   "source": [
    "# Define helper functions for EDA"
   ]
  },
  {
   "cell_type": "code",
   "execution_count": 12,
   "metadata": {},
   "outputs": [],
   "source": [
    "import pandas as pd\n",
    "import numpy as np\n",
    "import seaborn as sns\n",
    "from matplotlib import pyplot as plt"
   ]
  },
  {
   "cell_type": "code",
   "execution_count": 13,
   "metadata": {},
   "outputs": [],
   "source": [
    "def iscat(feature):\n",
    "    \"\"\"Decide whether a variable is categorical\n",
    "    Input: DataFrame: df[\"feature\"]\n",
    "    Returns: True/False\"\"\"\n",
    "    if (len(feature.unique())<20 or feature.dtype=='O'):\n",
    "        return True\n",
    "    else:\n",
    "        return False"
   ]
  },
  {
   "cell_type": "code",
   "execution_count": 14,
   "metadata": {},
   "outputs": [],
   "source": [
    "def sortcat(df, features):\n",
    "    \"\"\"Sort features into categorical and continuous groups\n",
    "    Inputs: \n",
    "        df: DataFrame\n",
    "        features: df columns: list of str\n",
    "    Returns:\n",
    "        cols_cat: list of columns identified as categorical\n",
    "        cols_cont: list of columns identified as continuous\n",
    "    \"\"\"\n",
    "    cols_cat=[]\n",
    "    cols_cont=[]\n",
    "    for feature in features:\n",
    "        if iscat(df[feature]):\n",
    "            cols_cat = np.append(cols_cat, feature)\n",
    "        else:\n",
    "            cols_cont = np.append(cols_cont, feature)\n",
    "    return cols_cat, cols_cont"
   ]
  },
  {
   "cell_type": "code",
   "execution_count": 15,
   "metadata": {},
   "outputs": [],
   "source": [
    "def analyzefeature(df_train, df_test, feature, feature2=None):\n",
    "    \"\"\"Analyze a single features or two features in the DataFrame\n",
    "    Inputs: \n",
    "        df_train: DataFrame, training dataset\n",
    "        df_test:  DataFrame, test dataset\n",
    "        feature:  df column to analyze: str\n",
    "        feature2: second df column to analyze: str\n",
    "    Returns:\n",
    "        None\n",
    "    \"\"\"\n",
    "    plt.figure(figsize=(18, 6))\n",
    "    housing = pd.concat([df_train, df_test], axis=0, sort=False)\n",
    "    housing[[feature]].info()\n",
    "    if iscat(df_train[feature]):\n",
    "        print(feature + \" is categorical\")\n",
    "        plt.subplot(1, 2, 1)\n",
    "        y1 = (housing[feature].fillna('Missing')).value_counts(sort=True)\n",
    "        x = np.arange(0, len(y1))\n",
    "        sns.barplot(x, y1.values)\n",
    "        plt.xticks(x, y1.index)\n",
    "        plt.xlabel(feature)\n",
    "        plt.ylabel(\"Total (train+test) counts\")\n",
    "        plt.subplot(1, 2, 2)\n",
    "        sns.boxplot(x=feature, y=\"SalePrice\", hue=feature2, data=df_train.fillna('Missing'), order=y1.index)\n",
    "        plt.show()\n",
    "        return True\n",
    "    else:\n",
    "        print(feature + \" is continuous\")\n",
    "        plt.subplot(1, 3, 1)\n",
    "        plt.hist(df_train[feature], bins=25)\n",
    "        plt.subplot(1, 3, 2)\n",
    "        x, y = ecdf(df_train[feature])\n",
    "        plt.plot(x, y)\n",
    "        plt.subplot(1, 3, 3)\n",
    "        sns.scatterplot(x=feature, y=\"SalePrice\", data=df_train)\n",
    "        print(df_train[[feature, \"SalePrice\"]].corr())\n",
    "        plt.show()\n",
    "        return False"
   ]
  },
  {
   "cell_type": "code",
   "execution_count": 16,
   "metadata": {},
   "outputs": [],
   "source": [
    "def ecdf(feature):\n",
    "    \"\"\"Calculate empirical cumulative distribution function\n",
    "    Input: feature: DataFrame column: df[\"col\"] \n",
    "    \"\"\"\n",
    "    x = np.arange(1, len(feature)+1)/len(feature)\n",
    "    y = np.sort(feature)\n",
    "    return x, y"
   ]
  },
  {
   "cell_type": "code",
   "execution_count": 17,
   "metadata": {},
   "outputs": [],
   "source": [
    "def categorize(df_train, df_test, feature, bns=3, lbls=['1','2','3'], method=\"mean\", fillna=False):\n",
    "    \"\"\" Categorize the elements of a continuous feature into discrete categories.\n",
    "    Inputs:\n",
    "        df_train: DataFrame: training data: aggregated by \"SalePrice\"\n",
    "        df_test:  DataFrame: test data: no \"SalePrice\" is available,\n",
    "                   categorization is performed according to the training data.\n",
    "        feature:  str: Specific column to categorize\n",
    "        bns: integer: number of categories\n",
    "        lbls: list of labels, num. elements equal to bns\n",
    "        method: aggregation method. Default: \"mean\"\n",
    "        fillna: replace missing values with most probable values: True/False\n",
    "    Returns:\n",
    "        feature_tr: transformed training set\n",
    "        feature_tr_test: trasformed test set: \"SalePrice\"    \n",
    "    \"\"\"\n",
    "    temp = housing_train[[feature, \"SalePrice\"]].groupby(feature).agg(method)\n",
    "    print(temp.head())\n",
    "    tr, bins = pd.cut(temp[\"SalePrice\"], bins=bns, labels=lbls, retbins=True)\n",
    "    print(bins)\n",
    "    print(tr.head())\n",
    "    fna = tr.value_counts().idxmax()\n",
    "    if fillna:\n",
    "        feature_tr = housing_train[feature].map(tr).fillna(fna).astype(str)\n",
    "        feature_tr_test = housing_test[feature].map(tr).fillna(fna).astype(str)\n",
    "    else:\n",
    "        feature_tr = housing_train[feature].map(tr).astype(str)\n",
    "        feature_tr_test = housing_test[feature].map(tr).astype(str)\n",
    "    print(feature_tr.head())\n",
    "    return feature_tr, feature_tr_test"
   ]
  },
  {
   "cell_type": "code",
   "execution_count": 18,
   "metadata": {},
   "outputs": [],
   "source": [
    "def safelog(array, zeromin=2):\n",
    "    \"\"\"Logarithm of dataset containing zero elements. \n",
    "    Inputs:\n",
    "        array: numpy array\n",
    "        zeromin: float\n",
    "                 defines log(0) as the minimal value of log(nonzero elements) - zeromin\n",
    "    \"\"\"\n",
    "    result = np.empty((len(array),1))\n",
    "    b = (array!=0)\n",
    "    result[b,0] = np.log(array[b])\n",
    "    c = (array==0)\n",
    "    result[c,0] = result[b,0].min()-zeromin\n",
    "    return result[:,0]"
   ]
  },
  {
   "cell_type": "code",
   "execution_count": null,
   "metadata": {},
   "outputs": [],
   "source": []
  },
  {
   "cell_type": "code",
   "execution_count": null,
   "metadata": {},
   "outputs": [],
   "source": []
  }
 ],
 "metadata": {
  "kernelspec": {
   "display_name": "Python 3",
   "language": "python",
   "name": "python3"
  },
  "language_info": {
   "codemirror_mode": {
    "name": "ipython",
    "version": 3
   },
   "file_extension": ".py",
   "mimetype": "text/x-python",
   "name": "python",
   "nbconvert_exporter": "python",
   "pygments_lexer": "ipython3",
   "version": "3.6.7"
  }
 },
 "nbformat": 4,
 "nbformat_minor": 2
}
